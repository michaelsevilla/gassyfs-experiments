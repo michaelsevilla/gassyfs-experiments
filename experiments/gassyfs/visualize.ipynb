{
 "cells": [
  {
   "cell_type": "code",
   "execution_count": 1,
   "metadata": {
    "collapsed": true
   },
   "outputs": [],
   "source": [
    "import pandas as pd\n",
    "%matplotlib inline\n",
    "import random\n",
    "import matplotlib.pyplot as plt\n",
    "import seaborn as sb"
   ]
  },
  {
   "cell_type": "code",
   "execution_count": 2,
   "metadata": {
    "collapsed": false
   },
   "outputs": [
    {
     "name": "stdout",
     "output_type": "stream",
     "text": [
      "results-cloudlab\n",
      "results-cloudlab-clemson\n",
      "results-cloudlab-clemson-bad\n",
      "results-ec2\n",
      "results-ec2-r3.8xlarge\n",
      "results-mycluster\n"
     ]
    }
   ],
   "source": [
    "import os\n",
    "\n",
    "df = pd.DataFrame()\n",
    "\n",
    "def load_results():\n",
    "    global df\n",
    "    \n",
    "    for folder in os.listdir('previous-results'):\n",
    "        print (folder)\n",
    "        for f in os.listdir('previous-results/' + folder):\n",
    "            if '.csv' not in f:\n",
    "                continue\n",
    "            tmpdf = pd.read_csv('previous-results/'+folder+'/'+f)\n",
    "\n",
    "            if folder.split('results-')[1] == 'cloudlab-clemson-bad':\n",
    "                continue\n",
    "            if folder.split('results-')[1] == 'cloudlab':\n",
    "                tmpdf['machine'] = 'cloudlab-wisconsin'\n",
    "            else:\n",
    "                tmpdf['machine'] = folder.split('results-')[1]\n",
    "\n",
    "            if 'dd' in f:\n",
    "                tmpdf['workload'] = 'dd'\n",
    "            elif 'git' in f:\n",
    "                tmpdf['workload'] = 'git'\n",
    "            elif 'ceph' in f:\n",
    "                tmpdf['workload'] = 'ceph'\n",
    "            elif 'kernel' in f:\n",
    "                tmpdf['workload'] = 'kernel'\n",
    "            else:\n",
    "                raise Exception(\"Can't decide how to process file: \" + f)\n",
    "\n",
    "            if '-1' in f:\n",
    "                tmpdf['nodes'] = 1\n",
    "            elif '-2' in f:\n",
    "                tmpdf['nodes'] = 2\n",
    "            elif '-3' in f:\n",
    "                tmpdf['nodes'] = 3\n",
    "            elif '-4' in f:\n",
    "                tmpdf['nodes'] = 4\n",
    "            elif '-5' in f:\n",
    "                tmpdf['nodes'] = 5\n",
    "            elif '-6' in f:\n",
    "                tmpdf['nodes'] = 6\n",
    "            else:\n",
    "                raise Exception(\"Can't decide how many nodes for: \" + f)\n",
    "            \n",
    "            if 'udp' in f:\n",
    "                tmpdf['fs'] = 'gassyfs-udp'\n",
    "            elif 'infiniband' in f:\n",
    "                tmpdf['fs'] = 'gassyfs-infiniband'\n",
    "            elif 'tmpfs' in f:\n",
    "                tmpdf['fs'] = 'tmpfs'\n",
    "            else:\n",
    "                raise Exception(\"Can't decide fs for: \" + f)\n",
    "                \n",
    "            df = pd.concat([df, tmpdf])\n",
    "\n",
    "load_results()"
   ]
  },
  {
   "cell_type": "code",
   "execution_count": 3,
   "metadata": {
    "collapsed": false
   },
   "outputs": [
    {
     "data": {
      "text/plain": [
       "array(['cloudlab-wisconsin', 'cloudlab-clemson', 'ec2', 'ec2-r3.8xlarge',\n",
       "       'mycluster'], dtype=object)"
      ]
     },
     "execution_count": 3,
     "metadata": {},
     "output_type": "execute_result"
    }
   ],
   "source": [
    "df['machine'].unique()"
   ]
  },
  {
   "cell_type": "code",
   "execution_count": 130,
   "metadata": {
    "collapsed": false
   },
   "outputs": [
    {
     "data": {
      "text/html": [
       "<div>\n",
       "<table border=\"1\" class=\"dataframe\">\n",
       "  <thead>\n",
       "    <tr style=\"text-align: right;\">\n",
       "      <th></th>\n",
       "      <th>delta</th>\n",
       "      <th>cmd</th>\n",
       "      <th>machine</th>\n",
       "      <th>workload</th>\n",
       "      <th>nodes</th>\n",
       "      <th>fs</th>\n",
       "    </tr>\n",
       "  </thead>\n",
       "  <tbody>\n",
       "    <tr>\n",
       "      <th>0</th>\n",
       "      <td>0:00:00.310090</td>\n",
       "      <td>\"cp -r /home/ceph ceph\"</td>\n",
       "      <td>cloudlab-wisconsin</td>\n",
       "      <td>ceph</td>\n",
       "      <td>1</td>\n",
       "      <td>tmpfs</td>\n",
       "    </tr>\n",
       "    <tr>\n",
       "      <th>1</th>\n",
       "      <td>0:04:38.199107</td>\n",
       "      <td>\"cd ceph; ./install-deps.sh; ./autogen.sh; ./...</td>\n",
       "      <td>cloudlab-wisconsin</td>\n",
       "      <td>ceph</td>\n",
       "      <td>1</td>\n",
       "      <td>tmpfs</td>\n",
       "    </tr>\n",
       "    <tr>\n",
       "      <th>2</th>\n",
       "      <td>0:11:41.693440</td>\n",
       "      <td>\"cd ceph; make -j10\"</td>\n",
       "      <td>cloudlab-wisconsin</td>\n",
       "      <td>ceph</td>\n",
       "      <td>1</td>\n",
       "      <td>tmpfs</td>\n",
       "    </tr>\n",
       "    <tr>\n",
       "      <th>3</th>\n",
       "      <td>0:00:02.354630</td>\n",
       "      <td>\"rm -r ceph\"</td>\n",
       "      <td>cloudlab-wisconsin</td>\n",
       "      <td>ceph</td>\n",
       "      <td>1</td>\n",
       "      <td>tmpfs</td>\n",
       "    </tr>\n",
       "    <tr>\n",
       "      <th>4</th>\n",
       "      <td>0:00:00.316929</td>\n",
       "      <td>\"cp -r /home/ceph ceph\"</td>\n",
       "      <td>cloudlab-wisconsin</td>\n",
       "      <td>ceph</td>\n",
       "      <td>1</td>\n",
       "      <td>tmpfs</td>\n",
       "    </tr>\n",
       "  </tbody>\n",
       "</table>\n",
       "</div>"
      ],
      "text/plain": [
       "            delta                                                cmd  \\\n",
       "0  0:00:00.310090                            \"cp -r /home/ceph ceph\"   \n",
       "1  0:04:38.199107   \"cd ceph; ./install-deps.sh; ./autogen.sh; ./...   \n",
       "2  0:11:41.693440                               \"cd ceph; make -j10\"   \n",
       "3  0:00:02.354630                                       \"rm -r ceph\"   \n",
       "4  0:00:00.316929                            \"cp -r /home/ceph ceph\"   \n",
       "\n",
       "              machine workload  nodes     fs  \n",
       "0  cloudlab-wisconsin     ceph      1  tmpfs  \n",
       "1  cloudlab-wisconsin     ceph      1  tmpfs  \n",
       "2  cloudlab-wisconsin     ceph      1  tmpfs  \n",
       "3  cloudlab-wisconsin     ceph      1  tmpfs  \n",
       "4  cloudlab-wisconsin     ceph      1  tmpfs  "
      ]
     },
     "execution_count": 130,
     "metadata": {},
     "output_type": "execute_result"
    }
   ],
   "source": [
    "df.head()"
   ]
  },
  {
   "cell_type": "code",
   "execution_count": 31,
   "metadata": {
    "collapsed": false
   },
   "outputs": [
    {
     "data": {
      "text/plain": [
       "Index(['delta', ' cmd', 'machine', 'workload', 'nodes', 'fs'], dtype='object')"
      ]
     },
     "execution_count": 31,
     "metadata": {},
     "output_type": "execute_result"
    }
   ],
   "source": [
    "df.columns"
   ]
  },
  {
   "cell_type": "code",
   "execution_count": 7,
   "metadata": {
    "collapsed": true
   },
   "outputs": [],
   "source": [
    "# convert from %H:%M:%S strings to num. seconds\n",
    "df['time'] = df['delta'].apply(lambda x: (int(x.split(':')[0]) * 360) + (int(x.split(':')[1]) * 60) + float(x.split(':')[2]) )"
   ]
  },
  {
   "cell_type": "code",
   "execution_count": 33,
   "metadata": {
    "collapsed": false
   },
   "outputs": [
    {
     "data": {
      "text/html": [
       "<div>\n",
       "<table border=\"1\" class=\"dataframe\">\n",
       "  <thead>\n",
       "    <tr style=\"text-align: right;\">\n",
       "      <th></th>\n",
       "      <th>delta</th>\n",
       "      <th>cmd</th>\n",
       "      <th>machine</th>\n",
       "      <th>workload</th>\n",
       "      <th>nodes</th>\n",
       "      <th>fs</th>\n",
       "      <th>time</th>\n",
       "    </tr>\n",
       "  </thead>\n",
       "  <tbody>\n",
       "    <tr>\n",
       "      <th>0</th>\n",
       "      <td>0:00:00.310090</td>\n",
       "      <td>\"cp -r /home/ceph ceph\"</td>\n",
       "      <td>cloudlab</td>\n",
       "      <td>ceph</td>\n",
       "      <td>1</td>\n",
       "      <td>tmpfs</td>\n",
       "      <td>0.310090</td>\n",
       "    </tr>\n",
       "    <tr>\n",
       "      <th>1</th>\n",
       "      <td>0:04:38.199107</td>\n",
       "      <td>\"cd ceph; ./install-deps.sh; ./autogen.sh; ./...</td>\n",
       "      <td>cloudlab</td>\n",
       "      <td>ceph</td>\n",
       "      <td>1</td>\n",
       "      <td>tmpfs</td>\n",
       "      <td>278.199107</td>\n",
       "    </tr>\n",
       "    <tr>\n",
       "      <th>2</th>\n",
       "      <td>0:11:41.693440</td>\n",
       "      <td>\"cd ceph; make -j10\"</td>\n",
       "      <td>cloudlab</td>\n",
       "      <td>ceph</td>\n",
       "      <td>1</td>\n",
       "      <td>tmpfs</td>\n",
       "      <td>701.693440</td>\n",
       "    </tr>\n",
       "    <tr>\n",
       "      <th>3</th>\n",
       "      <td>0:00:02.354630</td>\n",
       "      <td>\"rm -r ceph\"</td>\n",
       "      <td>cloudlab</td>\n",
       "      <td>ceph</td>\n",
       "      <td>1</td>\n",
       "      <td>tmpfs</td>\n",
       "      <td>2.354630</td>\n",
       "    </tr>\n",
       "    <tr>\n",
       "      <th>4</th>\n",
       "      <td>0:00:00.316929</td>\n",
       "      <td>\"cp -r /home/ceph ceph\"</td>\n",
       "      <td>cloudlab</td>\n",
       "      <td>ceph</td>\n",
       "      <td>1</td>\n",
       "      <td>tmpfs</td>\n",
       "      <td>0.316929</td>\n",
       "    </tr>\n",
       "  </tbody>\n",
       "</table>\n",
       "</div>"
      ],
      "text/plain": [
       "            delta                                                cmd  \\\n",
       "0  0:00:00.310090                            \"cp -r /home/ceph ceph\"   \n",
       "1  0:04:38.199107   \"cd ceph; ./install-deps.sh; ./autogen.sh; ./...   \n",
       "2  0:11:41.693440                               \"cd ceph; make -j10\"   \n",
       "3  0:00:02.354630                                       \"rm -r ceph\"   \n",
       "4  0:00:00.316929                            \"cp -r /home/ceph ceph\"   \n",
       "\n",
       "    machine workload  nodes     fs        time  \n",
       "0  cloudlab     ceph      1  tmpfs    0.310090  \n",
       "1  cloudlab     ceph      1  tmpfs  278.199107  \n",
       "2  cloudlab     ceph      1  tmpfs  701.693440  \n",
       "3  cloudlab     ceph      1  tmpfs    2.354630  \n",
       "4  cloudlab     ceph      1  tmpfs    0.316929  "
      ]
     },
     "execution_count": 33,
     "metadata": {},
     "output_type": "execute_result"
    }
   ],
   "source": [
    "df.head()"
   ]
  },
  {
   "cell_type": "code",
   "execution_count": 122,
   "metadata": {
    "collapsed": false
   },
   "outputs": [],
   "source": [
    "dd = df[(df['workload'] == 'dd') & (df['fs'] == 'gassyfs-udp') & (df[' cmd'].str.contains('1M'))]"
   ]
  },
  {
   "cell_type": "code",
   "execution_count": 123,
   "metadata": {
    "collapsed": false
   },
   "outputs": [
    {
     "data": {
      "image/png": "[encoded data removed]",
      "text/plain": [
       "<matplotlib.figure.Figure at 0x7f8a7d913080>"
      ]
     },
     "metadata": {},
     "output_type": "display_data"
    }
   ],
   "source": [
    "# 4k\n",
    "sb_plot = sb.pointplot(x=\"nodes\", y=\"time\", hue=\"machine\", data=dd)"
   ]
  },
  {
   "cell_type": "code",
   "execution_count": 126,
   "metadata": {
    "collapsed": false
   },
   "outputs": [
    {
     "data": {
      "text/html": [
       "<div>\n",
       "<table border=\"1\" class=\"dataframe\">\n",
       "  <thead>\n",
       "    <tr style=\"text-align: right;\">\n",
       "      <th></th>\n",
       "      <th>delta</th>\n",
       "      <th>cmd</th>\n",
       "      <th>machine</th>\n",
       "      <th>workload</th>\n",
       "      <th>nodes</th>\n",
       "      <th>fs</th>\n",
       "      <th>time</th>\n",
       "    </tr>\n",
       "  </thead>\n",
       "  <tbody>\n",
       "    <tr>\n",
       "      <th>0</th>\n",
       "      <td>0:00:43.327187</td>\n",
       "      <td>\"dd if=/dev/zero of=./zero bs=1M count=30720\"</td>\n",
       "      <td>cloudlab-clemson</td>\n",
       "      <td>dd</td>\n",
       "      <td>1</td>\n",
       "      <td>gassyfs-udp</td>\n",
       "      <td>43.327187</td>\n",
       "    </tr>\n",
       "    <tr>\n",
       "      <th>2</th>\n",
       "      <td>0:00:33.214673</td>\n",
       "      <td>\"dd if=/dev/zero of=./zero bs=1M count=30720\"</td>\n",
       "      <td>cloudlab-clemson</td>\n",
       "      <td>dd</td>\n",
       "      <td>1</td>\n",
       "      <td>gassyfs-udp</td>\n",
       "      <td>33.214673</td>\n",
       "    </tr>\n",
       "    <tr>\n",
       "      <th>4</th>\n",
       "      <td>0:00:38.301533</td>\n",
       "      <td>\"dd if=/dev/zero of=./zero bs=1M count=30720\"</td>\n",
       "      <td>cloudlab-clemson</td>\n",
       "      <td>dd</td>\n",
       "      <td>1</td>\n",
       "      <td>gassyfs-udp</td>\n",
       "      <td>38.301533</td>\n",
       "    </tr>\n",
       "    <tr>\n",
       "      <th>0</th>\n",
       "      <td>0:01:14.282960</td>\n",
       "      <td>\"dd if=/dev/zero of=./zero bs=1M count=30720\"</td>\n",
       "      <td>cloudlab-clemson</td>\n",
       "      <td>dd</td>\n",
       "      <td>2</td>\n",
       "      <td>gassyfs-udp</td>\n",
       "      <td>74.282960</td>\n",
       "    </tr>\n",
       "    <tr>\n",
       "      <th>2</th>\n",
       "      <td>0:01:10.698505</td>\n",
       "      <td>\"dd if=/dev/zero of=./zero bs=1M count=30720\"</td>\n",
       "      <td>cloudlab-clemson</td>\n",
       "      <td>dd</td>\n",
       "      <td>2</td>\n",
       "      <td>gassyfs-udp</td>\n",
       "      <td>70.698505</td>\n",
       "    </tr>\n",
       "    <tr>\n",
       "      <th>4</th>\n",
       "      <td>0:01:08.443441</td>\n",
       "      <td>\"dd if=/dev/zero of=./zero bs=1M count=30720\"</td>\n",
       "      <td>cloudlab-clemson</td>\n",
       "      <td>dd</td>\n",
       "      <td>2</td>\n",
       "      <td>gassyfs-udp</td>\n",
       "      <td>68.443441</td>\n",
       "    </tr>\n",
       "    <tr>\n",
       "      <th>0</th>\n",
       "      <td>0:01:28.467734</td>\n",
       "      <td>\"dd if=/dev/zero of=./zero bs=1M count=30720\"</td>\n",
       "      <td>cloudlab-clemson</td>\n",
       "      <td>dd</td>\n",
       "      <td>3</td>\n",
       "      <td>gassyfs-udp</td>\n",
       "      <td>88.467734</td>\n",
       "    </tr>\n",
       "    <tr>\n",
       "      <th>2</th>\n",
       "      <td>0:01:31.810616</td>\n",
       "      <td>\"dd if=/dev/zero of=./zero bs=1M count=30720\"</td>\n",
       "      <td>cloudlab-clemson</td>\n",
       "      <td>dd</td>\n",
       "      <td>3</td>\n",
       "      <td>gassyfs-udp</td>\n",
       "      <td>91.810616</td>\n",
       "    </tr>\n",
       "    <tr>\n",
       "      <th>4</th>\n",
       "      <td>0:01:34.363375</td>\n",
       "      <td>\"dd if=/dev/zero of=./zero bs=1M count=30720\"</td>\n",
       "      <td>cloudlab-clemson</td>\n",
       "      <td>dd</td>\n",
       "      <td>3</td>\n",
       "      <td>gassyfs-udp</td>\n",
       "      <td>94.363375</td>\n",
       "    </tr>\n",
       "    <tr>\n",
       "      <th>0</th>\n",
       "      <td>0:01:43.617121</td>\n",
       "      <td>\"dd if=/dev/zero of=./zero bs=1M count=30720\"</td>\n",
       "      <td>cloudlab-clemson</td>\n",
       "      <td>dd</td>\n",
       "      <td>4</td>\n",
       "      <td>gassyfs-udp</td>\n",
       "      <td>103.617121</td>\n",
       "    </tr>\n",
       "    <tr>\n",
       "      <th>2</th>\n",
       "      <td>0:01:36.214891</td>\n",
       "      <td>\"dd if=/dev/zero of=./zero bs=1M count=30720\"</td>\n",
       "      <td>cloudlab-clemson</td>\n",
       "      <td>dd</td>\n",
       "      <td>4</td>\n",
       "      <td>gassyfs-udp</td>\n",
       "      <td>96.214891</td>\n",
       "    </tr>\n",
       "    <tr>\n",
       "      <th>4</th>\n",
       "      <td>0:01:33.650196</td>\n",
       "      <td>\"dd if=/dev/zero of=./zero bs=1M count=30720\"</td>\n",
       "      <td>cloudlab-clemson</td>\n",
       "      <td>dd</td>\n",
       "      <td>4</td>\n",
       "      <td>gassyfs-udp</td>\n",
       "      <td>93.650196</td>\n",
       "    </tr>\n",
       "    <tr>\n",
       "      <th>0</th>\n",
       "      <td>0:01:42.462333</td>\n",
       "      <td>\"dd if=/dev/zero of=./zero bs=1M count=30720\"</td>\n",
       "      <td>cloudlab-clemson</td>\n",
       "      <td>dd</td>\n",
       "      <td>5</td>\n",
       "      <td>gassyfs-udp</td>\n",
       "      <td>102.462333</td>\n",
       "    </tr>\n",
       "    <tr>\n",
       "      <th>2</th>\n",
       "      <td>0:01:37.517094</td>\n",
       "      <td>\"dd if=/dev/zero of=./zero bs=1M count=30720\"</td>\n",
       "      <td>cloudlab-clemson</td>\n",
       "      <td>dd</td>\n",
       "      <td>5</td>\n",
       "      <td>gassyfs-udp</td>\n",
       "      <td>97.517094</td>\n",
       "    </tr>\n",
       "    <tr>\n",
       "      <th>4</th>\n",
       "      <td>0:01:37.471645</td>\n",
       "      <td>\"dd if=/dev/zero of=./zero bs=1M count=30720\"</td>\n",
       "      <td>cloudlab-clemson</td>\n",
       "      <td>dd</td>\n",
       "      <td>5</td>\n",
       "      <td>gassyfs-udp</td>\n",
       "      <td>97.471645</td>\n",
       "    </tr>\n",
       "    <tr>\n",
       "      <th>0</th>\n",
       "      <td>0:11:02.173882</td>\n",
       "      <td>\"dd if=/dev/zero of=./zero bs=1M count=30720\"</td>\n",
       "      <td>cloudlab-clemson</td>\n",
       "      <td>dd</td>\n",
       "      <td>6</td>\n",
       "      <td>gassyfs-udp</td>\n",
       "      <td>662.173882</td>\n",
       "    </tr>\n",
       "    <tr>\n",
       "      <th>2</th>\n",
       "      <td>0:10:48.646413</td>\n",
       "      <td>\"dd if=/dev/zero of=./zero bs=1M count=30720\"</td>\n",
       "      <td>cloudlab-clemson</td>\n",
       "      <td>dd</td>\n",
       "      <td>6</td>\n",
       "      <td>gassyfs-udp</td>\n",
       "      <td>648.646413</td>\n",
       "    </tr>\n",
       "    <tr>\n",
       "      <th>4</th>\n",
       "      <td>0:10:47.742425</td>\n",
       "      <td>\"dd if=/dev/zero of=./zero bs=1M count=30720\"</td>\n",
       "      <td>cloudlab-clemson</td>\n",
       "      <td>dd</td>\n",
       "      <td>6</td>\n",
       "      <td>gassyfs-udp</td>\n",
       "      <td>647.742425</td>\n",
       "    </tr>\n",
       "  </tbody>\n",
       "</table>\n",
       "</div>"
      ],
      "text/plain": [
       "            delta                                             cmd  \\\n",
       "0  0:00:43.327187   \"dd if=/dev/zero of=./zero bs=1M count=30720\"   \n",
       "2  0:00:33.214673   \"dd if=/dev/zero of=./zero bs=1M count=30720\"   \n",
       "4  0:00:38.301533   \"dd if=/dev/zero of=./zero bs=1M count=30720\"   \n",
       "0  0:01:14.282960   \"dd if=/dev/zero of=./zero bs=1M count=30720\"   \n",
       "2  0:01:10.698505   \"dd if=/dev/zero of=./zero bs=1M count=30720\"   \n",
       "4  0:01:08.443441   \"dd if=/dev/zero of=./zero bs=1M count=30720\"   \n",
       "0  0:01:28.467734   \"dd if=/dev/zero of=./zero bs=1M count=30720\"   \n",
       "2  0:01:31.810616   \"dd if=/dev/zero of=./zero bs=1M count=30720\"   \n",
       "4  0:01:34.363375   \"dd if=/dev/zero of=./zero bs=1M count=30720\"   \n",
       "0  0:01:43.617121   \"dd if=/dev/zero of=./zero bs=1M count=30720\"   \n",
       "2  0:01:36.214891   \"dd if=/dev/zero of=./zero bs=1M count=30720\"   \n",
       "4  0:01:33.650196   \"dd if=/dev/zero of=./zero bs=1M count=30720\"   \n",
       "0  0:01:42.462333   \"dd if=/dev/zero of=./zero bs=1M count=30720\"   \n",
       "2  0:01:37.517094   \"dd if=/dev/zero of=./zero bs=1M count=30720\"   \n",
       "4  0:01:37.471645   \"dd if=/dev/zero of=./zero bs=1M count=30720\"   \n",
       "0  0:11:02.173882   \"dd if=/dev/zero of=./zero bs=1M count=30720\"   \n",
       "2  0:10:48.646413   \"dd if=/dev/zero of=./zero bs=1M count=30720\"   \n",
       "4  0:10:47.742425   \"dd if=/dev/zero of=./zero bs=1M count=30720\"   \n",
       "\n",
       "            machine workload  nodes           fs        time  \n",
       "0  cloudlab-clemson       dd      1  gassyfs-udp   43.327187  \n",
       "2  cloudlab-clemson       dd      1  gassyfs-udp   33.214673  \n",
       "4  cloudlab-clemson       dd      1  gassyfs-udp   38.301533  \n",
       "0  cloudlab-clemson       dd      2  gassyfs-udp   74.282960  \n",
       "2  cloudlab-clemson       dd      2  gassyfs-udp   70.698505  \n",
       "4  cloudlab-clemson       dd      2  gassyfs-udp   68.443441  \n",
       "0  cloudlab-clemson       dd      3  gassyfs-udp   88.467734  \n",
       "2  cloudlab-clemson       dd      3  gassyfs-udp   91.810616  \n",
       "4  cloudlab-clemson       dd      3  gassyfs-udp   94.363375  \n",
       "0  cloudlab-clemson       dd      4  gassyfs-udp  103.617121  \n",
       "2  cloudlab-clemson       dd      4  gassyfs-udp   96.214891  \n",
       "4  cloudlab-clemson       dd      4  gassyfs-udp   93.650196  \n",
       "0  cloudlab-clemson       dd      5  gassyfs-udp  102.462333  \n",
       "2  cloudlab-clemson       dd      5  gassyfs-udp   97.517094  \n",
       "4  cloudlab-clemson       dd      5  gassyfs-udp   97.471645  \n",
       "0  cloudlab-clemson       dd      6  gassyfs-udp  662.173882  \n",
       "2  cloudlab-clemson       dd      6  gassyfs-udp  648.646413  \n",
       "4  cloudlab-clemson       dd      6  gassyfs-udp  647.742425  "
      ]
     },
     "execution_count": 126,
     "metadata": {},
     "output_type": "execute_result"
    }
   ],
   "source": [
    "dd[dd['machine'] == 'cloudlab-clemson']"
   ]
  },
  {
   "cell_type": "code",
   "execution_count": 96,
   "metadata": {
    "collapsed": false
   },
   "outputs": [
    {
     "data": {
      "image/png": "[encoded data removed]",
      "text/plain": [
       "<matplotlib.figure.Figure at 0x7f8a7dffad30>"
      ]
     },
     "metadata": {},
     "output_type": "display_data"
    }
   ],
   "source": [
    "# 1M\n",
    "sb_plot = sb.pointplot(x=\"nodes\", y=\"time\", hue=\"machine\", data=dd)\n"
   ]
  },
  {
   "cell_type": "code",
   "execution_count": 117,
   "metadata": {
    "collapsed": true
   },
   "outputs": [],
   "source": [
    "sb_plot.get_figure().savefig('dd-multinode.png', bbox_inches='tight', dpi=300)"
   ]
  },
  {
   "cell_type": "code",
   "execution_count": 8,
   "metadata": {
    "collapsed": false
   },
   "outputs": [],
   "source": [
    "git = df[(df['workload'] == 'git') & (df['fs'] == 'gassyfs-udp') & (df[' cmd'].str.contains('make'))]"
   ]
  },
  {
   "cell_type": "code",
   "execution_count": 20,
   "metadata": {
    "collapsed": false
   },
   "outputs": [
    {
     "data": {
      "text/plain": [
       "<matplotlib.text.Text at 0x7f23b04cb630>"
      ]
     },
     "execution_count": 20,
     "metadata": {},
     "output_type": "execute_result"
    },
    {
     "data": {
      "image/png": "[encoded data removed]",
      "text/plain": [
       "<matplotlib.figure.Figure at 0x7f23b0639198>"
      ]
     },
     "metadata": {},
     "output_type": "display_data"
    }
   ],
   "source": [
    "# 1M\n",
    "sb_plot = sb.pointplot(x=\"nodes\", y=\"time\", hue=\"machine\", data=git)\n",
    "\n",
    "plt.xlabel('Node count',fontsize=14)\n",
    "plt.ylabel('Mean time (seconds)', fontsize=14)"
   ]
  },
  {
   "cell_type": "code",
   "execution_count": 21,
   "metadata": {
    "collapsed": true
   },
   "outputs": [],
   "source": [
    "sb_plot.get_figure().savefig('git-multinode.png', bbox_inches='tight', dpi=300)"
   ]
  },
  {
   "cell_type": "code",
   "execution_count": 108,
   "metadata": {
    "collapsed": true
   },
   "outputs": [],
   "source": [
    "tmpfs = df[(df['workload'] == 'dd') & (df['fs'] == 'tmpfs') & (df[' cmd'].str.contains('1M'))]"
   ]
  },
  {
   "cell_type": "code",
   "execution_count": 110,
   "metadata": {
    "collapsed": false
   },
   "outputs": [
    {
     "data": {
      "image/png": "[encoded data removed]",
      "text/plain": [
       "<matplotlib.figure.Figure at 0x7f8a7d9fbda0>"
      ]
     },
     "metadata": {},
     "output_type": "display_data"
    }
   ],
   "source": [
    "sb_plot = sb.pointplot(x=\"nodes\", y=\"time\", hue=\"machine\", data=tmpfs, dodge=True)\n"
   ]
  },
  {
   "cell_type": "code",
   "execution_count": 111,
   "metadata": {
    "collapsed": false
   },
   "outputs": [
    {
     "data": {
      "text/html": [
       "<div>\n",
       "<table border=\"1\" class=\"dataframe\">\n",
       "  <thead>\n",
       "    <tr style=\"text-align: right;\">\n",
       "      <th></th>\n",
       "      <th>delta</th>\n",
       "      <th>cmd</th>\n",
       "      <th>machine</th>\n",
       "      <th>workload</th>\n",
       "      <th>nodes</th>\n",
       "      <th>fs</th>\n",
       "      <th>time</th>\n",
       "    </tr>\n",
       "  </thead>\n",
       "  <tbody>\n",
       "    <tr>\n",
       "      <th>0</th>\n",
       "      <td>0:00:12.735413</td>\n",
       "      <td>\"dd if=/dev/zero of=./zero bs=1M count=30720\"</td>\n",
       "      <td>ec2</td>\n",
       "      <td>dd</td>\n",
       "      <td>1</td>\n",
       "      <td>tmpfs</td>\n",
       "      <td>12.735413</td>\n",
       "    </tr>\n",
       "    <tr>\n",
       "      <th>2</th>\n",
       "      <td>0:00:12.716720</td>\n",
       "      <td>\"dd if=/dev/zero of=./zero bs=1M count=30720\"</td>\n",
       "      <td>ec2</td>\n",
       "      <td>dd</td>\n",
       "      <td>1</td>\n",
       "      <td>tmpfs</td>\n",
       "      <td>12.716720</td>\n",
       "    </tr>\n",
       "    <tr>\n",
       "      <th>4</th>\n",
       "      <td>0:00:12.721076</td>\n",
       "      <td>\"dd if=/dev/zero of=./zero bs=1M count=30720\"</td>\n",
       "      <td>ec2</td>\n",
       "      <td>dd</td>\n",
       "      <td>1</td>\n",
       "      <td>tmpfs</td>\n",
       "      <td>12.721076</td>\n",
       "    </tr>\n",
       "    <tr>\n",
       "      <th>0</th>\n",
       "      <td>0:00:12.997253</td>\n",
       "      <td>\"dd if=/dev/zero of=./zero bs=1M count=30720\"</td>\n",
       "      <td>ec2-r3.8xlarge</td>\n",
       "      <td>dd</td>\n",
       "      <td>1</td>\n",
       "      <td>tmpfs</td>\n",
       "      <td>12.997253</td>\n",
       "    </tr>\n",
       "    <tr>\n",
       "      <th>2</th>\n",
       "      <td>0:00:12.766199</td>\n",
       "      <td>\"dd if=/dev/zero of=./zero bs=1M count=30720\"</td>\n",
       "      <td>ec2-r3.8xlarge</td>\n",
       "      <td>dd</td>\n",
       "      <td>1</td>\n",
       "      <td>tmpfs</td>\n",
       "      <td>12.766199</td>\n",
       "    </tr>\n",
       "    <tr>\n",
       "      <th>4</th>\n",
       "      <td>0:00:12.813753</td>\n",
       "      <td>\"dd if=/dev/zero of=./zero bs=1M count=30720\"</td>\n",
       "      <td>ec2-r3.8xlarge</td>\n",
       "      <td>dd</td>\n",
       "      <td>1</td>\n",
       "      <td>tmpfs</td>\n",
       "      <td>12.813753</td>\n",
       "    </tr>\n",
       "    <tr>\n",
       "      <th>0</th>\n",
       "      <td>0:00:12.553897</td>\n",
       "      <td>\"dd if=/dev/zero of=./zero bs=1M count=30720\"</td>\n",
       "      <td>mycluster</td>\n",
       "      <td>dd</td>\n",
       "      <td>1</td>\n",
       "      <td>tmpfs</td>\n",
       "      <td>12.553897</td>\n",
       "    </tr>\n",
       "    <tr>\n",
       "      <th>4</th>\n",
       "      <td>0:00:12.313808</td>\n",
       "      <td>\"dd if=/dev/zero of=./zero bs=1M count=30720\"</td>\n",
       "      <td>mycluster</td>\n",
       "      <td>dd</td>\n",
       "      <td>1</td>\n",
       "      <td>tmpfs</td>\n",
       "      <td>12.313808</td>\n",
       "    </tr>\n",
       "    <tr>\n",
       "      <th>8</th>\n",
       "      <td>0:00:13.534148</td>\n",
       "      <td>\"dd if=/dev/zero of=./zero bs=1M count=30720\"</td>\n",
       "      <td>mycluster</td>\n",
       "      <td>dd</td>\n",
       "      <td>1</td>\n",
       "      <td>tmpfs</td>\n",
       "      <td>13.534148</td>\n",
       "    </tr>\n",
       "  </tbody>\n",
       "</table>\n",
       "</div>"
      ],
      "text/plain": [
       "            delta                                             cmd  \\\n",
       "0  0:00:12.735413   \"dd if=/dev/zero of=./zero bs=1M count=30720\"   \n",
       "2  0:00:12.716720   \"dd if=/dev/zero of=./zero bs=1M count=30720\"   \n",
       "4  0:00:12.721076   \"dd if=/dev/zero of=./zero bs=1M count=30720\"   \n",
       "0  0:00:12.997253   \"dd if=/dev/zero of=./zero bs=1M count=30720\"   \n",
       "2  0:00:12.766199   \"dd if=/dev/zero of=./zero bs=1M count=30720\"   \n",
       "4  0:00:12.813753   \"dd if=/dev/zero of=./zero bs=1M count=30720\"   \n",
       "0  0:00:12.553897   \"dd if=/dev/zero of=./zero bs=1M count=30720\"   \n",
       "4  0:00:12.313808   \"dd if=/dev/zero of=./zero bs=1M count=30720\"   \n",
       "8  0:00:13.534148   \"dd if=/dev/zero of=./zero bs=1M count=30720\"   \n",
       "\n",
       "          machine workload  nodes     fs       time  \n",
       "0             ec2       dd      1  tmpfs  12.735413  \n",
       "2             ec2       dd      1  tmpfs  12.716720  \n",
       "4             ec2       dd      1  tmpfs  12.721076  \n",
       "0  ec2-r3.8xlarge       dd      1  tmpfs  12.997253  \n",
       "2  ec2-r3.8xlarge       dd      1  tmpfs  12.766199  \n",
       "4  ec2-r3.8xlarge       dd      1  tmpfs  12.813753  \n",
       "0       mycluster       dd      1  tmpfs  12.553897  \n",
       "4       mycluster       dd      1  tmpfs  12.313808  \n",
       "8       mycluster       dd      1  tmpfs  13.534148  "
      ]
     },
     "execution_count": 111,
     "metadata": {},
     "output_type": "execute_result"
    }
   ],
   "source": [
    "tmpfs"
   ]
  },
  {
   "cell_type": "code",
   "execution_count": 115,
   "metadata": {
    "collapsed": false
   },
   "outputs": [],
   "source": [
    "foo = df[(df['workload'] == 'git') & (df['fs'] == 'tmpfs') & (df[' cmd'].str.contains('make'))]"
   ]
  },
  {
   "cell_type": "code",
   "execution_count": 116,
   "metadata": {
    "collapsed": false
   },
   "outputs": [
    {
     "data": {
      "image/png": "[encoded data removed]",
      "text/plain": [
       "<matplotlib.figure.Figure at 0x7f8a7db9f7f0>"
      ]
     },
     "metadata": {},
     "output_type": "display_data"
    }
   ],
   "source": [
    "sb_plot = sb.pointplot(x=\"nodes\", y=\"time\", hue=\"machine\", data=foo, dodge=True)\n"
   ]
  },
  {
   "cell_type": "code",
   "execution_count": null,
   "metadata": {
    "collapsed": true
   },
   "outputs": [],
   "source": []
  }
 ],
 "metadata": {
  "kernelspec": {
   "display_name": "Python 3",
   "language": "python",
   "name": "python3"
  },
  "language_info": {
   "codemirror_mode": {
    "name": "ipython",
    "version": 3
   },
   "file_extension": ".py",
   "mimetype": "text/x-python",
   "name": "python",
   "nbconvert_exporter": "python",
   "pygments_lexer": "ipython3",
   "version": "3.5.1"
  }
 },
 "nbformat": 4,
 "nbformat_minor": 0
}
